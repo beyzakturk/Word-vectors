{
 "cells": [
  {
   "cell_type": "code",
   "execution_count": 5,
   "id": "2c562feb",
   "metadata": {},
   "outputs": [
    {
     "name": "stderr",
     "output_type": "stream",
     "text": [
      "C:\\Users\\Beyza\\anaconda3\\lib\\site-packages\\gensim\\similarities\\__init__.py:15: UserWarning: The gensim.similarities.levenshtein submodule is disabled, because the optional Levenshtein package <https://pypi.org/project/python-Levenshtein/> is unavailable. Install Levenhstein (e.g. `pip install python-Levenshtein`) to suppress this warning.\n",
      "  warnings.warn(msg)\n"
     ]
    }
   ],
   "source": [
    "import numpy as np \n",
    "from gensim.models import Word2Vec\n",
    "from sklearn.manifold import TSNE\n",
    "import matplotlib.pyplot as plt"
   ]
  },
  {
   "cell_type": "code",
   "execution_count": 2,
   "id": "a815fdc9",
   "metadata": {},
   "outputs": [],
   "source": [
    "f = open('hurriyet.txt', 'r', encoding='utf8')\n",
    "text = f.read()\n",
    "t_list = text.split('\\n')\n",
    "corpus = []\n",
    "\n",
    "for cumle in t_list:\n",
    "    corpus.append(cumle.split())"
   ]
  },
  {
   "cell_type": "code",
   "execution_count": 3,
   "id": "da9c83bb",
   "metadata": {},
   "outputs": [
    {
     "name": "stdout",
     "output_type": "stream",
     "text": [
      "[['iran', 'devlet', 'televizyonu', 'ülkedeki', 'eyaletin', 'sinde', 'yapılan', 'reformcuları', 'protesto', 'amaçlı', 'yürüyüşlere', 'milyonlarca', 'kişinin', 'katıldığını', 'bildirdi'], ['gösterilerde', 'fitnecilere', 'ölüm', 'münafıklara', 'ölüm', 'abd', 'ye', 'ölüm', 'ingiltere', 'ye', 'ölüm', 'sloganları', 'atıldı'], ['dini', 'lider', 'ali', 'hamaney', 've', 'cumhurbaşkanı', 'mahmud', 'ahmedinejad', 'ı', 'destekleyen', 'iranlılar', 'son', 'olaylarda', 'yeğeni', 'öldürülen', 'mir', 'hüseyin', 'musevi', 'başta', 'olmak', 'üzere', 'muhalefet', 'liderlerini', 'kınadılar'], ['musevi', 'ye', 'ölüm', 've', 'idam', 'idam', 'sloganları', 'duyuldu'], ['muhalefet', 'liderleri', 'kaçtı', 'mı', 'aşure', 'günü', 'yaşanan', 'çatışmalarda', 'devlet', 'kaynaklarına', 'göre', 'u', 'terörist', 'olmak', 'üzere', 'kişi', 'ölmüştü'], ['den', 'fazla', 'kişinin', 'yaralandığı', 'olaylar', 'sırasında', 'en', 'az', 'kişi', 'tutuklanmıştı'], ['öte', 'yandan', 'iran', 'haber', 'ajansı', 'irna', 'muhalif', 'liderler', 'mir', 'hüseyin', 'musevi', 've', 'mehdi', 'kerrubi', 'nin', 'başkentten', 'kaçarak', 'ülkenin', 'kuzeyine', 'geçtiğini', 'ileri', 'sürdü', 'ancak', 'muhalefet', 'iddiayı', 'yalanladı'], ['hamaney', 'in', 'bir', 'dönem', 'korumalığını', 'yapan', 've', 'şu', 'anda', 'fransa', 'da', 'saklandığı', 'söylenen', 'bir', 'kişinin', 'muhalefete', 'verdiği', 'bilgilere', 'göre', 'münzevi', 'yaşamı', 'na', 'rağmen', 'dini', 'liderin', 'havyara', 'karşı', 'korkunç', 'bir', 'iştahı', 'var'], ['baston', 've', 'at', 'meraklısı', 'hamaney', 'aynı', 'zamanda', 'değerli', 'mücevherlerle', 'bezenmiş', 'bastonların', 've', 'cins', 'atların', 'koleksiyonunu', 'yapıyor'], ['hamaney', 'in', 'antika', 'bastonlarının', 'sayısı'], ['fanatik', 'binicilik', 'tutkunu', 'olan', 'hamaney', 'den', 'fazla', 'cins', 'ata', 'sahip'], ['görkemli', 'cübbesi', 'ise', 'özel', 'olarak', 'yetiştirilen', 'develerin', 'tüyünden', 'dokunuyor'], ['anlatılanlar', 'arasında', 'en', 'ilginci', 'ali', 'hamaney', 'in', 'sık', 'sık', 'geçirdiği', 'depresyon', 'nöbetlerini', 'orta', 'kademe', 'bir', 'din', 'adamına', 'müstehcen', 'fıkralar', 'anlattırarak', 'atlattığı', 'iddiası'], ['eski', 'korumanın', 'sözlerinin', 'doğruluğuna', 'ise', 'hamaney', 'in', 'afyon', 'kullandığı', 'yolundaki', 'söylentileri', 'yalanlaması', 'kanıt', 'gösteriliyor'], ['yine', 'iran', 'dan', 'kaçan', 'istihbarat', 'görevlisinin', 'iddiaları', 'da', 'benzer', 'yönde']]\n"
     ]
    }
   ],
   "source": [
    "print(corpus[:15])"
   ]
  },
  {
   "cell_type": "markdown",
   "id": "ec33555e",
   "metadata": {},
   "source": [
    "Öncelikle corpusları elde ettik şimdi modeli eğitelim"
   ]
  },
  {
   "cell_type": "code",
   "execution_count": 7,
   "id": "d5fa4c94",
   "metadata": {},
   "outputs": [],
   "source": [
    "model = Word2Vec(corpus, vector_size=100, window=5, min_count=5, sg=1)"
   ]
  },
  {
   "cell_type": "code",
   "execution_count": 8,
   "id": "42b50cd5",
   "metadata": {},
   "outputs": [
    {
     "data": {
      "text/plain": [
       "array([ 0.10260615, -0.3270565 , -0.0412914 ,  0.19722748,  0.71298033,\n",
       "       -0.13779157,  0.10502204,  0.22984472, -0.19049601, -0.06486925,\n",
       "       -0.31987724, -0.13719513,  0.51039493,  0.01410311, -0.310505  ,\n",
       "        0.34283066,  0.3453068 , -0.30933326,  0.31498364, -0.32541353,\n",
       "        0.20204067, -0.02794138,  0.3862895 , -0.8264215 , -0.536333  ,\n",
       "        0.12971486, -0.43562904,  0.23716271, -0.25054076,  0.3307461 ,\n",
       "        0.27569813, -0.16295324, -0.44917724, -0.06464071, -0.01914201,\n",
       "       -0.14389917, -0.10256766, -0.27481103,  0.13558117, -0.9311914 ,\n",
       "        0.3394014 ,  0.15509345,  0.34505397,  0.27899435,  0.05160965,\n",
       "        0.48318133,  0.10157783, -0.47344163,  0.4852052 , -0.2175434 ,\n",
       "        0.3124444 , -0.03142588,  0.22900712,  0.32480454, -0.50558347,\n",
       "        0.43702164, -0.3131934 , -0.10632113, -0.6464016 , -0.48480025,\n",
       "       -0.19730942,  0.1593285 , -0.16345622,  0.25997743, -0.13006301,\n",
       "        0.04744842, -0.2219654 ,  0.4283642 , -0.6049557 , -0.05610627,\n",
       "       -0.19002347,  0.14222258,  0.8600837 , -0.13556942,  0.4621059 ,\n",
       "       -0.10506786,  0.14662561,  0.20417245, -0.43888724, -0.21704073,\n",
       "       -0.07965214, -0.4492316 , -0.06480381,  0.28440255,  0.2250643 ,\n",
       "       -0.1799222 , -0.14316455, -0.16409923,  0.34389704,  0.17842413,\n",
       "        0.47973555, -0.2827792 ,  0.25662002,  0.16213319,  0.2957834 ,\n",
       "        0.01268972,  0.34907287, -0.17067873,  0.25995606, -0.2059017 ],\n",
       "      dtype=float32)"
      ]
     },
     "execution_count": 8,
     "metadata": {},
     "output_type": "execute_result"
    }
   ],
   "source": [
    "model.wv['istanbul']"
   ]
  },
  {
   "cell_type": "code",
   "execution_count": 9,
   "id": "7cda8caa",
   "metadata": {},
   "outputs": [
    {
     "data": {
      "text/plain": [
       "[('hollanda', 0.8143526911735535),\n",
       " ('danimarka', 0.7860254645347595),\n",
       " ('avusturya', 0.7633463144302368),\n",
       " ('fransa', 0.7521408200263977),\n",
       " ('almanya', 0.7228807210922241),\n",
       " ('ispanya', 0.7039064764976501),\n",
       " ('letonya', 0.6961701512336731),\n",
       " ('finlandiya', 0.6859968900680542),\n",
       " ('lüksemburg', 0.6750128269195557),\n",
       " ('estonya', 0.670030951499939)]"
      ]
     },
     "execution_count": 9,
     "metadata": {},
     "output_type": "execute_result"
    }
   ],
   "source": [
    "model.wv.most_similar('belçika')"
   ]
  },
  {
   "cell_type": "code",
   "execution_count": 10,
   "id": "88765307",
   "metadata": {},
   "outputs": [],
   "source": [
    "model.save('word2vec.model')"
   ]
  },
  {
   "cell_type": "code",
   "execution_count": 11,
   "id": "63326070",
   "metadata": {},
   "outputs": [],
   "source": [
    "model = Word2Vec.load('word2vec.model')"
   ]
  },
  {
   "cell_type": "markdown",
   "id": "8b4ed79c",
   "metadata": {},
   "source": [
    "Şimdi yazacağımız fonksiyon ile benzer kelimleri grafik üzerinde göreceğiz"
   ]
  },
  {
   "cell_type": "code",
   "execution_count": 15,
   "id": "b215f36e",
   "metadata": {},
   "outputs": [],
   "source": [
    "def closestwords_tsneplot(model, word):\n",
    "    word_vectors =np.empty((0,100))\n",
    "    word_labels = [word]\n",
    "    close_words = model.wv.most_similar(word)\n",
    "    word_vectors = np.append(word_vectors, np.array([model.wv[word]]), axis=0)\n",
    "    \n",
    "    for w, _ in close_words:\n",
    "        word_labels.append(w)\n",
    "        word_vectors = np.append(word_vectors, np.array([model.wv[word]]), axis=0)\n",
    "    \n",
    "    tsne = TSNE(random_state=0)\n",
    "    Y = tsne.fit_transform(word_vectors)\n",
    "    \n",
    "    x_coords = Y[:,0]\n",
    "    y_coords = Y[:,1]\n",
    "    \n",
    "    plt.scatter(x_coords, y_coords)\n",
    "    \n",
    "    for label, x, y in zip(word_labels, x_coords, y_coords):\n",
    "        plt.annotate(label, xy=(x,y), xytext=(5,-2), textcoords='offset points')\n",
    "        \n",
    "    plt.show()    "
   ]
  },
  {
   "cell_type": "code",
   "execution_count": 17,
   "id": "3ebb9b70",
   "metadata": {},
   "outputs": [
    {
     "name": "stderr",
     "output_type": "stream",
     "text": [
      "C:\\Users\\Beyza\\anaconda3\\lib\\site-packages\\sklearn\\manifold\\_t_sne.py:780: FutureWarning: The default initialization in TSNE will change from 'random' to 'pca' in 1.2.\n",
      "  warnings.warn(\n",
      "C:\\Users\\Beyza\\anaconda3\\lib\\site-packages\\sklearn\\manifold\\_t_sne.py:790: FutureWarning: The default learning rate in TSNE will change from 200.0 to 'auto' in 1.2.\n",
      "  warnings.warn(\n"
     ]
    },
    {
     "data": {
      "image/png": "[encoded data removed]",
      "text/plain": [
       "<Figure size 432x288 with 1 Axes>"
      ]
     },
     "metadata": {
      "needs_background": "light"
     },
     "output_type": "display_data"
    }
   ],
   "source": [
    "closestwords_tsneplot(model, 'hollanda')"
   ]
  },
  {
   "cell_type": "code",
   "execution_count": null,
   "id": "bc9ad504",
   "metadata": {},
   "outputs": [],
   "source": []
  }
 ],
 "metadata": {
  "kernelspec": {
   "display_name": "Python 3 (ipykernel)",
   "language": "python",
   "name": "python3"
  },
  "language_info": {
   "codemirror_mode": {
    "name": "ipython",
    "version": 3
   },
   "file_extension": ".py",
   "mimetype": "text/x-python",
   "name": "python",
   "nbconvert_exporter": "python",
   "pygments_lexer": "ipython3",
   "version": "3.8.8"
  }
 },
 "nbformat": 4,
 "nbformat_minor": 5
}
